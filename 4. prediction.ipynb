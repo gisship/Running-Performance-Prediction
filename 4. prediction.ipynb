{
  "nbformat": 4,
  "nbformat_minor": 0,
  "metadata": {
    "colab": {
      "name": "15.077 - Final Project - Prediction.ipynb",
      "provenance": [],
      "collapsed_sections": [],
      "toc_visible": true
    },
    "kernelspec": {
      "name": "python3",
      "display_name": "Python 3"
    },
    "language_info": {
      "name": "python"
    }
  },
  "cells": [
    {
      "cell_type": "markdown",
      "source": [
        "# 15.077 Final Project - Predicting running performance using personal data\n",
        "# Performance prediction"
      ],
      "metadata": {
        "id": "BmEwRrvF8T09"
      }
    },
    {
      "cell_type": "code",
      "execution_count": null,
      "metadata": {
        "id": "3rUniTbO8Inq"
      },
      "outputs": [],
      "source": [
        "import pickle\n",
        "import numpy as np\n",
        "import pandas as pd\n",
        "import matplotlib.pyplot as plt\n",
        "import seaborn as sns\n",
        "from scipy.stats import norm, expon\n",
        "from sklearn.linear_model import LinearRegression\n",
        "from sklearn.preprocessing import PolynomialFeatures\n",
        "from sklearn.ensemble import RandomForestRegressor\n",
        "import warnings\n",
        "warnings.filterwarnings(\"ignore\")\n",
        "np.random.seed(0)"
      ]
    },
    {
      "cell_type": "code",
      "source": [
        "# Load training data\n",
        "data_train = pd.read_csv(\"data_train_dup.csv\", index_col = 0)\n",
        "X_train = data_train.iloc[:,1:].values\n",
        "y_train = data_train.iloc[:,0].values.reshape(-1,1)"
      ],
      "metadata": {
        "id": "HXomLfyt8UMS"
      },
      "execution_count": null,
      "outputs": []
    },
    {
      "cell_type": "code",
      "source": [
        "# Load test data\n",
        "data_test = pd.read_csv(\"data_test.csv\", index_col = 0)\n",
        "X_test = data_test.iloc[:,1:].values\n",
        "y_test = data_test.iloc[:,0].values.reshape(-1,1)"
      ],
      "metadata": {
        "id": "JT1fW9jyL_LX"
      },
      "execution_count": null,
      "outputs": []
    },
    {
      "cell_type": "code",
      "source": [
        "# Create absolute percentage error function\n",
        "def ape(y_true, y_pred):\n",
        "    return [np.abs((y_true[i]-y_pred[i])/y_true[i]) for i in range(len(y_pred))]"
      ],
      "metadata": {
        "id": "YWoT8HmFNuam"
      },
      "execution_count": null,
      "outputs": []
    },
    {
      "cell_type": "markdown",
      "source": [
        "## Random forest"
      ],
      "metadata": {
        "id": "BzyuFi_vdM6-"
      }
    },
    {
      "cell_type": "code",
      "source": [
        "# Fit random forest on training data\n",
        "reg = RandomForestRegressor()\n",
        "reg.fit(X_train, y_train)"
      ],
      "metadata": {
        "colab": {
          "base_uri": "https://localhost:8080/"
        },
        "id": "3Vp6BuiN9Xxb",
        "outputId": "c6c8febe-ac3a-40a3-8b47-1f2df1a097f3"
      },
      "execution_count": null,
      "outputs": [
        {
          "output_type": "execute_result",
          "data": {
            "text/plain": [
              "RandomForestRegressor()"
            ]
          },
          "metadata": {},
          "execution_count": 11
        }
      ]
    },
    {
      "cell_type": "code",
      "source": [
        "# Prediction on test set\n",
        "y_pred_rf = reg.predict(X_test)"
      ],
      "metadata": {
        "id": "ItVLzUn2C0Gn"
      },
      "execution_count": null,
      "outputs": []
    },
    {
      "cell_type": "code",
      "source": [
        "# Prediction performance\n",
        "ape_rf = ape(y_test, y_pred_rf)\n",
        "res_rf = np.mean(ape_rf), np.median(ape_rf)\n",
        "print(\"MAPE (Random Forest) = \" + str(round(res_rf[0]*100, 2)) + \"%\")\n",
        "print(\"MedAPE (Random Forest) = \" + str(round(res_rf[1]*100, 2)) + \"%\")"
      ],
      "metadata": {
        "colab": {
          "base_uri": "https://localhost:8080/"
        },
        "id": "F0J3yiIVyI94",
        "outputId": "02007b90-9dff-4972-ce27-1ba59a922a04"
      },
      "execution_count": null,
      "outputs": [
        {
          "output_type": "stream",
          "name": "stdout",
          "text": [
            "MAPE (Random Forest) = 4.3%\n",
            "MedAPE (Random Forest) = 2.83%\n"
          ]
        }
      ]
    },
    {
      "cell_type": "code",
      "source": [
        "# Plot\n",
        "plt.scatter(y_test, y_pred_rf)\n",
        "plt.plot(y_test, y_test, color = \"r\", linestyle = \"dashed\", label = \"Perfect prediction\")\n",
        "#plt.title(\"Predicted vs. True performances - Random forest\")\n",
        "plt.xlabel(\"True performances (s)\")\n",
        "plt.ylabel(\"Predicted performances (s)\")\n",
        "plt.legend()\n",
        "plt.show()"
      ],
      "metadata": {
        "colab": {
          "base_uri": "https://localhost:8080/",
          "height": 279
        },
        "id": "TcHWHCnkz7bD",
        "outputId": "29ccafa0-f4c8-4903-b296-277c73461cde"
      },
      "execution_count": null,
      "outputs": [
        {
          "output_type": "display_data",
          "data": {
            "text/plain": [
              "<Figure size 432x288 with 1 Axes>"
            ],
            "image/png": "[encoded data removed]"
          },
          "metadata": {
            "needs_background": "light"
          }
        }
      ]
    },
    {
      "cell_type": "markdown",
      "source": [
        "## FFA scale"
      ],
      "metadata": {
        "id": "60Sgr2QYgpQ5"
      }
    },
    {
      "cell_type": "code",
      "source": [
        "# Load FFA scales\n",
        "scale_F = pd.read_csv(\"ffa_scale_F.csv\", sep = \";\")\n",
        "scale_M = pd.read_csv(\"ffa_scale_M.csv\", sep = \";\")\n",
        "scale_F.columns = [\"Level\", 0.8, 1, 1.5, 3, 5, 10, 15, 21.097, 42.195, 100]\n",
        "scale_M.columns = [\"Level\", 0.8, 1, 1.5, 3, 5, 10, 15, 21.097, 42.195, 100]"
      ],
      "metadata": {
        "id": "a268xpTPMLkk"
      },
      "execution_count": null,
      "outputs": []
    },
    {
      "cell_type": "code",
      "source": [
        "# Prediction on test set\n",
        "y_pred_ffa = []\n",
        "\n",
        "for i in range(data_test.shape[0]):\n",
        "  perf_dist = data_test.iloc[i,:].PerfDist\n",
        "  perf_time = data_test.iloc[i,:].PerfTime\n",
        "  pred_dist = data_test.iloc[i,:].PredDist\n",
        "  gender = data_test.iloc[i,:].Gender\n",
        "\n",
        "  if gender == 1:\n",
        "    scale = scale_M[perf_dist].values\n",
        "    index_perf = sum(perf_time > scale)\n",
        "   \n",
        "    if index_perf == 0:\n",
        "      y_pred_ffa.append(scale_M[pred_dist].values[0])\n",
        "    elif index_perf == len(scale)-1:\n",
        "      y_pred_ffa.append(scale_M[pred_dist].values[-1])\n",
        "    else:\n",
        "      adj = (perf_time - scale_M[perf_dist].values[index_perf-1]) / scale_M[perf_dist].values[index_perf-1]\n",
        "      y_pred_ffa.append(scale_M[pred_dist].values[index_perf-1]*(1+adj))\n",
        "\n",
        "  else:\n",
        "    scale = scale_F[perf_dist].values\n",
        "    index_perf = sum(perf_time > scale)\n",
        "    \n",
        "    if index_perf == 0:\n",
        "      y_pred_ffa.append(scale_F[pred_dist].values[0])\n",
        "    elif index_perf == len(scale)-1:\n",
        "      y_pred_ffa.append(scale_F[pred_dist].values[-1])\n",
        "    else:\n",
        "      adj = (perf_time - scale_F[perf_dist].values[index_perf-1]) / scale_F[perf_dist].values[index_perf-1]\n",
        "      y_pred_ffa.append(scale_F[pred_dist].values[index_perf-1]*(1+adj))"
      ],
      "metadata": {
        "id": "KbtS51MxGUYP"
      },
      "execution_count": null,
      "outputs": []
    },
    {
      "cell_type": "code",
      "source": [
        "# FFA scale prediction performance\n",
        "ape_ffa = ape(y_test, y_pred_ffa)\n",
        "res_ffa = np.mean(ape_ffa), np.median(ape_ffa)\n",
        "print(\"MAPE (French Athletics Federation Scale) = \" + str(round(res_ffa[0]*100, 2)) + \"%\")\n",
        "print(\"MedAPE (French Athletics Federation Scale) = \" + str(round(res_ffa[1]*100, 2)) + \"%\")"
      ],
      "metadata": {
        "colab": {
          "base_uri": "https://localhost:8080/"
        },
        "id": "ZFQoYiUNWsLQ",
        "outputId": "129d9630-cb98-4c63-8daf-68900cf0f2b3"
      },
      "execution_count": null,
      "outputs": [
        {
          "output_type": "stream",
          "name": "stdout",
          "text": [
            "MAPE (French Athletics Federation Scale) = 7.55%\n",
            "MedAPE (French Athletics Federation Scale) = 3.9%\n"
          ]
        }
      ]
    },
    {
      "cell_type": "code",
      "source": [
        "# Plot\n",
        "plt.scatter(y_test, y_pred_ffa)\n",
        "plt.plot(y_test, y_test, color = \"r\", linestyle = \"dashed\", label = \"Perfect prediction\")\n",
        "#plt.title(\"Predicted vs. True performances - FFA scale\")\n",
        "plt.xlabel(\"True performances (s)\")\n",
        "plt.ylabel(\"Predicted performances (s)\")\n",
        "plt.legend()\n",
        "plt.show()"
      ],
      "metadata": {
        "colab": {
          "base_uri": "https://localhost:8080/",
          "height": 279
        },
        "id": "aWB6cuOoyS7v",
        "outputId": "5a87fce9-f15c-424b-b8e2-a83530dd063d"
      },
      "execution_count": null,
      "outputs": [
        {
          "output_type": "display_data",
          "data": {
            "text/plain": [
              "<Figure size 432x288 with 1 Axes>"
            ],
            "image/png": "[encoded data removed]"
          },
          "metadata": {
            "needs_background": "light"
          }
        }
      ]
    },
    {
      "cell_type": "markdown",
      "source": [
        "## Concatenate training and test data sets for new predictions"
      ],
      "metadata": {
        "id": "exexDWkBzH7F"
      }
    },
    {
      "cell_type": "code",
      "source": [
        "# Concatenate training and test data sets\n",
        "data_train = pd.read_csv(\"data_train.csv\", index_col = 0)\n",
        "data_full = pd.concat([data_train, data_test], axis = 0)"
      ],
      "metadata": {
        "id": "8IW0LJ9mMq-G"
      },
      "execution_count": null,
      "outputs": []
    },
    {
      "cell_type": "code",
      "source": [
        "# Remove outliers from full data set (see data analysis part)\n",
        "# Store index in first column\n",
        "data_full.insert(0, \"Index\", data_full.index)\n",
        "data_full = data_full.reset_index(drop = True)\n",
        "\n",
        "# y outliers\n",
        "pred_dist = np.sort(data_full.PredDist.unique())\n",
        "genders = [0,1]\n",
        "\n",
        "for dist in pred_dist:\n",
        "  for gender in genders:\n",
        "    df = data_full[(data_full.PredDist == dist) & (data_full.Gender == gender)]\n",
        "    scores = norm.cdf(np.log(df.y), loc = np.mean(np.log(df.y)), scale = np.std(np.log(df.y)))\n",
        "    filt = np.abs(scores - 0.5) >= 0.999/2\n",
        "    data_full = data_full.iloc[~data_full.index.isin(df.iloc[filt,:].index),:]\n",
        "\n",
        "# PerfTime outliers\n",
        "perf_dist = np.sort(data_full.PerfDist.unique())\n",
        "\n",
        "for dist in perf_dist:\n",
        "  for gender in genders:\n",
        "    df = data_full[(data_full.PerfDist == dist) & (data_full.Gender == gender)]\n",
        "    scores = norm.cdf(np.log(df.PerfTime), loc = np.mean(np.log(df.PerfTime)), scale = np.std(np.log(df.PerfTime)))\n",
        "    filt = np.abs(scores - 0.5) >= 0.999/2\n",
        "    data_full = data_full.iloc[~data_full.index.isin(df.iloc[filt,:].index),:]\n",
        "\n",
        "# AgePred outliers\n",
        "scores = norm.cdf(data_full.AgePred, loc = np.mean(data_full.AgePred), scale = np.std(data_full.AgePred))\n",
        "filt = np.abs(scores - 0.5) >= 0.999/2\n",
        "data_full = data_full.iloc[~filt,:]\n",
        "\n",
        "# DeltaAgePerf outliers\n",
        "scores = expon.cdf(data_full.DeltaAgePerf, scale = np.mean(data_full.DeltaAgePerf))\n",
        "filt = (scores >= 0.999) | (data_full.DeltaAgePerf.values < 0)\n",
        "data_full = data_full.iloc[~filt,:]\n",
        "\n",
        "# Height outliers\n",
        "for gender in genders:\n",
        "  df = data_full[data_full.Gender == gender]\n",
        "  scores = norm.cdf(df.Height, loc = np.mean(df.Height), scale = np.std(df.Height))\n",
        "  filt = np.abs(scores - 0.5) >= 0.999/2\n",
        "  data_full = data_full.iloc[~data_full.index.isin(df.iloc[filt,:].index),:]\n",
        "\n",
        "# Weight outliers\n",
        "for gender in genders:\n",
        "  df = data_full[data_full.Gender == gender]\n",
        "  scores = norm.cdf(df.Weight, loc = np.mean(df.Weight), scale = np.std(df.Weight))\n",
        "  filt = np.abs(scores - 0.5) >= 0.999/2\n",
        "  data_full = data_full.iloc[~data_full.index.isin(df.iloc[filt,:].index),:]\n",
        "\n",
        "# Alpha outliers\n",
        "df = data_full[data_full.Alpha > 0]\n",
        "scores = norm.cdf(df.Alpha, loc = np.mean(df.Alpha), scale = np.std(df.Alpha))\n",
        "filt = np.abs(scores - 0.5) >= 0.999/2\n",
        "data_full = data_full.iloc[~data_full.index.isin(df.iloc[filt,:].index),:]\n",
        "\n",
        "# Beta outliers\n",
        "df = data_full[data_full.Beta > 0]\n",
        "scores = norm.cdf(df.Beta, loc = np.mean(df.Beta), scale = np.std(df.Beta))\n",
        "filt = np.abs(scores - 0.5) >= 0.999/2\n",
        "data_full = data_full.iloc[~data_full.index.isin(df.iloc[filt,:].index),:]\n",
        "\n",
        "# Set index back in place\n",
        "data_full = data_full.set_index(\"Index\")"
      ],
      "metadata": {
        "id": "lnWHB_6iM3YJ"
      },
      "execution_count": null,
      "outputs": []
    },
    {
      "cell_type": "code",
      "source": [
        "# In order to enable accurate prediction when alpha and beta are not available create duplicate rows where Alpha = Beta = IsAlphaBeta = 0\n",
        "df_dup = data_full[data_full.IsAlphaBeta == 1]\n",
        "df_dup[[\"Alpha\", \"Beta\", \"IsAlphaBeta\"]] = 0\n",
        "data_full = pd.concat([data_full, df_dup], axis = 0)\n",
        "data_full = data_full.loc[data_full.index.unique(),:]"
      ],
      "metadata": {
        "id": "FPceJnj0TO5N"
      },
      "execution_count": null,
      "outputs": []
    },
    {
      "cell_type": "markdown",
      "source": [
        "## Fit random forest on full data set"
      ],
      "metadata": {
        "id": "ETh2WLb-y6jo"
      }
    },
    {
      "cell_type": "code",
      "source": [
        "# Fit model\n",
        "X = data_full.iloc[:,1:].values\n",
        "y = data_full.iloc[:,0].values.reshape(-1,1)\n",
        "reg = RandomForestRegressor()\n",
        "reg.fit(X,y)"
      ],
      "metadata": {
        "colab": {
          "base_uri": "https://localhost:8080/"
        },
        "id": "k59VoNQMy_42",
        "outputId": "3e932826-5463-4392-fd40-bc78a8fb1ec7"
      },
      "execution_count": null,
      "outputs": [
        {
          "output_type": "execute_result",
          "data": {
            "text/plain": [
              "RandomForestRegressor()"
            ]
          },
          "metadata": {},
          "execution_count": 27
        }
      ]
    },
    {
      "cell_type": "code",
      "source": [
        "# Store regressor for new predictions\n",
        "f = open(\"rf_regressor.pckl\", \"wb\")\n",
        "pickle.dump(reg, f)\n",
        "f.close()"
      ],
      "metadata": {
        "id": "WIApFjKAUTaA"
      },
      "execution_count": null,
      "outputs": []
    }
  ]
}